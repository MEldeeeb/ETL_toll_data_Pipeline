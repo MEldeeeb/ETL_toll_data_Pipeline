{
 "cells": [
  {
   "cell_type": "raw",
   "id": "720cc8c3",
   "metadata": {},
   "source": [
    "Creating a database consisting of a single table called livetolldata to store data recived from kafka streaming pipeline "
   ]
  },
  {
   "cell_type": "code",
   "execution_count": 1,
   "id": "33f650b5",
   "metadata": {},
   "outputs": [],
   "source": [
    "import mysql.connector\n",
    "import pandas as pd "
   ]
  },
  {
   "cell_type": "code",
   "execution_count": 2,
   "id": "01dc1f85",
   "metadata": {},
   "outputs": [],
   "source": [
    "# creating a connection opject to connect with MYSQL server\n",
    "db = mysql.connector.connect(\n",
    "    host = \"localhost\",\n",
    "    user = \"root\",\n",
    "    passwd = \"**********\"\n",
    ") \n",
    "# creating a cursor opject  \n",
    "c = db.cursor()"
   ]
  },
  {
   "cell_type": "code",
   "execution_count": 3,
   "id": "3fabce86",
   "metadata": {},
   "outputs": [
    {
     "name": "stdout",
     "output_type": "stream",
     "text": [
      "tolldata database alredy exists\n"
     ]
    }
   ],
   "source": [
    "#creating a database called py_DB\n",
    "try:\n",
    "    c.execute(\"CREATE DATABASE tolldata\")\n",
    "except:\n",
    "    # if database alredy exists it will print database alredy exists \n",
    "    print(\"tolldata database alredy exists\")\n"
   ]
  },
  {
   "cell_type": "code",
   "execution_count": 4,
   "id": "bdd8da29",
   "metadata": {},
   "outputs": [],
   "source": [
    "# navigating through databases and connect to py_db\n",
    "conn = mysql.connector.connect(\n",
    "    host = \"localhost\",\n",
    "    user = \"root\",\n",
    "    passwd = \"************\",\n",
    "    database = \"tolldata\"\n",
    ") \n",
    "# creating a cursor opject  \n",
    "c = conn.cursor()"
   ]
  },
  {
   "cell_type": "code",
   "execution_count": 5,
   "id": "d43b7a6b",
   "metadata": {},
   "outputs": [],
   "source": [
    "#creating a new table called INSTRUCTOR\n",
    "try:\n",
    "    table = '''\n",
    "            create table IF NOT EXISTS livetolldata(\n",
    "                                timestamp datetime,\n",
    "                                vehicle_id int,\n",
    "                                vehicle_type char(15),\n",
    "                                toll_plaza_id smallint\n",
    "                                                    );\n",
    "            '''\n",
    "    c.execute(table)\n",
    "except:\n",
    "    print (\"livetolldata table alredy exists\")"
   ]
  },
  {
   "cell_type": "code",
   "execution_count": 6,
   "id": "04111424",
   "metadata": {},
   "outputs": [],
   "source": [
    "conn.close()"
   ]
  }
 ],
 "metadata": {
  "kernelspec": {
   "display_name": "Python 3 (ipykernel)",
   "language": "python",
   "name": "python3"
  },
  "language_info": {
   "codemirror_mode": {
    "name": "ipython",
    "version": 3
   },
   "file_extension": ".py",
   "mimetype": "text/x-python",
   "name": "python",
   "nbconvert_exporter": "python",
   "pygments_lexer": "ipython3",
   "version": "3.9.7"
  }
 },
 "nbformat": 4,
 "nbformat_minor": 5
}
