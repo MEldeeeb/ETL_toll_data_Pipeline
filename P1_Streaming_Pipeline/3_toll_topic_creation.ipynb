{
 "cells": [
  {
   "cell_type": "markdown",
   "id": "fd700e10",
   "metadata": {},
   "source": [
    "Creating a kafka topic called toll with a single partion and replication factor of one"
   ]
  },
  {
   "cell_type": "code",
   "execution_count": 1,
   "id": "9f63f85b",
   "metadata": {},
   "outputs": [
    {
     "data": {
      "text/plain": [
       "CreateTopicsResponse_v3(throttle_time_ms=0, topic_errors=[(topic='toll', error_code=0, error_message=None)])"
      ]
     },
     "execution_count": 1,
     "metadata": {},
     "output_type": "execute_result"
    }
   ],
   "source": [
    "from kafka.admin import KafkaAdminClient,NewTopic\n",
    "try:\n",
    "    topic_name = \"toll\"\n",
    "    admin_client = KafkaAdminClient(bootstrap_servers=\"localhost:9092\", client_id='test')\n",
    "    topic_list = []\n",
    "    new_topic = NewTopic(name = topic_name, num_partitions= 1, replication_factor= 1)\n",
    "    topic_list.append(new_topic)\n",
    "    admin_client.create_topics(new_topics=topic_list)\n",
    "except:\n",
    "    print(\"{} topic already excist\".format(topic_name)) "
   ]
  }
 ],
 "metadata": {
  "kernelspec": {
   "display_name": "Python 3 (ipykernel)",
   "language": "python",
   "name": "python3"
  },
  "language_info": {
   "codemirror_mode": {
    "name": "ipython",
    "version": 3
   },
   "file_extension": ".py",
   "mimetype": "text/x-python",
   "name": "python",
   "nbconvert_exporter": "python",
   "pygments_lexer": "ipython3",
   "version": "3.9.7"
  }
 },
 "nbformat": 4,
 "nbformat_minor": 5
}
